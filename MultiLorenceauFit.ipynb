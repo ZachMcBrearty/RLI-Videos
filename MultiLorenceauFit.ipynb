{
 "cells": [
  {
   "cell_type": "code",
   "execution_count": 3,
   "metadata": {},
   "outputs": [],
   "source": [
    "# import libraries\n",
    "import numpy as np\n",
    "import scipy as sp\n",
    "from ipywidgets import interact\n",
    "from scipy.integrate import odeint\n",
    "from scipy.optimize import curve_fit\n",
    "from scipy.stats import chi2\n",
    "import matplotlib.pyplot as plt\n",
    "# This makes the plots appear inside the notebook\n",
    "%matplotlib inline\n",
    "def chiSq(modelparam, model, x, y, yerr):\n",
    "    '''sum up all the square reduced residuals for use in chisquared'''\n",
    "    return np.sum(((y-model(x, *modelparam))/yerr)**2) "
   ]
  },
  {
   "cell_type": "code",
   "execution_count": 4,
   "metadata": {},
   "outputs": [],
   "source": [
    "# parameters used throughout the code\n",
    "h = 9 # immersion depth of straw, cm\n",
    "H = 20 # length of straw, cm\n",
    "g = 9.8 # gravity, ms^-2\n",
    "D = 0.007 # diameter of straw, m\n",
    "\n",
    "P_atm = 1030\n",
    "\n",
    "t_norm = (h*1e-2/g)**-0.5 #normalisation constant, 1e-2 cm to m\n",
    "\n",
    "# Calculated using \"http://www.met.reading.ac.uk/~sws04cdw/viscosity_calc.html\"\n",
    "# 0%, 10%, 20%, ..., 70% by volume\n",
    "# all values at 23degC\n",
    "rhos = [997.38, 1026.6, 1055.8, 1084.7, 1113.0,\n",
    "        1140.3, 1166.6, 1191.6] # kg/m^3\n",
    "etas = [0.00093505, 0.0012808, 0.0018249, 0.0027285, 0.0043309,\n",
    "        0.0074104, 0.013960, 0.029822] # Ns/m^-2"
   ]
  },
  {
   "cell_type": "code",
   "execution_count": 5,
   "metadata": {},
   "outputs": [],
   "source": [
    "def DZ_dt_Lor(Z, t, args):\n",
    "    Omeg = args[0]\n",
    "    if Z[1]>0:\n",
    "        return [Z[1], 1/Z[0] - 1 -Omeg*Z[1] - (Z[1])**2/Z[0]]\n",
    "    else:\n",
    "        return [Z[1], 1/Z[0] - 1 -Omeg*Z[1]]\n",
    "\n",
    "def loadData(filename):\n",
    "    data = np.genfromtxt(filename,delimiter='\\t',skip_header=2 )\n",
    "    time_data = data[:,0]\n",
    "    z_data = data[:,2]*100 # bc in m\n",
    "\n",
    "    timeshift = time_data[0] # shifted so that t=0 is the time in video that the cap is released.\n",
    "    time_data_clean = time_data[np.isfinite(z_data)]-timeshift # cleaned data includes the timeshift, and removes any instances of infinite.\n",
    "    z_data_clean = z_data[np.isfinite(z_data)]\n",
    "    z_err = np.full(shape=z_data_clean.shape, fill_value=0.1)\n",
    "    #z_err = np.sqrt(np.array([0] + [abs(z_data_clean[i] - (z_data_clean[i-1] + z_data_clean[i+1])/2) for i in range(1, len(z_data_clean)-1)] + [0]))+0.01\n",
    "\n",
    "    #z_0 = 1.954e-2 # height of liquid in straw, cm # calculated as d\n",
    "    conc = int(filename[0])\n",
    "    eta = etas[conc] # Ns/m^-2\n",
    "    rho = rhos[conc] # kg/m^3\n",
    "    omeg = 16 * eta * (h * 10**-2)**0.5 / (rho * (D/2)**2 * g**0.5)\n",
    "    d = (1 - P_atm/(rho*(10**-3)*h + P_atm))*H # initial height of liquid in straw\n",
    "    #d = z_data_clean[0]+h\n",
    "\n",
    "    def func(t, factor):\n",
    "        Omeg = omeg*factor\n",
    "        t_solnLor = np.arange(0, round(max(time_data_clean)*t_norm, 3), 0.001)\n",
    "        Z_soln = sp.integrate.odeint(DZ_dt_Lor, [d, 0.00], t_solnLor, args=((Omeg,),))\n",
    "        z_soln = Z_soln[:, 0]*h\n",
    "        t_solnLor /= t_norm # unnormalise to compare to real \n",
    "        # find corresponding t values and the z_soln for them\n",
    "        # searchsorted should be safe as the time data will all be in order\n",
    "        zout = z_soln[np.searchsorted(t_solnLor, t)-1]\n",
    "        return zout-h\n",
    "\n",
    "    return time_data_clean, z_data_clean, z_err, omeg, func\n",
    "\n",
    "# currently taking the h to be constant at 9cm (which is what we set it as)\n",
    "# allowing it to vary in the model is interesting but ultimately wrong\n",
    "def analyse(filename, plot=False, ax=None):\n",
    "    timedata, zdata, zerr, omeg, func = loadData(filename)\n",
    "    P = curve_fit(func, timedata, zdata, p0=(1),  sigma=zerr, absolute_sigma=True)\n",
    "    vals = P[0]\n",
    "    err = np.sqrt(np.diag(P[1]))\n",
    "    h = [9, 0.1]\n",
    "    if plot:\n",
    "        if ax is None:\n",
    "            ax = plt.figure()\n",
    "        plt.errorbar(timedata, zdata+h[0], zerr, fmt=\"b.\", capsize=2, label=f\"{filename}\")\n",
    "        plt.plot(timedata[1:], func(timedata[1:], *P[0])+h[0], \"g--\", label=\"Lorenceau Numerical Integration\")\n",
    "        plt.legend()\n",
    "    factor = [vals[0], err[0]]\n",
    "    Omeg = [vals[0]*omeg, err[0]*omeg]\n",
    "\n",
    "    return factor, Omeg, h\n",
    "\n",
    "def analyseAll(plots=False):\n",
    "    filenames = []\n",
    "    data = []\n",
    "    for perc in range(0, 80, 10):\n",
    "        for file in [f\"{perc}%V1\",f\"{perc}%V2\",f\"{perc}%V3\"]:\n",
    "            try:\n",
    "                d = analyse(file, plot=plots)\n",
    "                filenames.append(file)\n",
    "                data.append(d)\n",
    "            except FileNotFoundError:\n",
    "                print(f\"Datafile {file} not found\")\n",
    "    return np.array(filenames), np.array(data)"
   ]
  },
  {
   "cell_type": "code",
   "execution_count": 6,
   "metadata": {},
   "outputs": [],
   "source": [
    "Filenames, Data = analyseAll(False)"
   ]
  },
  {
   "cell_type": "code",
   "execution_count": 7,
   "metadata": {},
   "outputs": [],
   "source": [
    "def printData(filenames, data):\n",
    "    for f, d in zip(filenames, data):\n",
    "        print(f\"{f}: Factor: {d[0][0]} +/- {d[0][1]}\\n\\\n",
    "            Omeg: {d[1][0]} +/- {d[1][1]}\\n\\\n",
    "            h: {d[2][0]} +/- {d[2][1]}\")\n",
    "#printData(Filenames, Data)"
   ]
  },
  {
   "cell_type": "code",
   "execution_count": 22,
   "metadata": {},
   "outputs": [],
   "source": [
    "# potential fitting regimes\n",
    "linear = lambda x, a, b: a*x+b # pguess = (1,1)\n",
    "quadratic = lambda x, a, b, c: a*x**2+b*x+c # pguess = (1,1,1)\n",
    "expon = lambda x, a, b, c: a * np.exp(b*x) + c # pguess = (1, 1, 1)\n",
    "expxonx = lambda x, a, b, c: a * np.exp(b*x) / (b*x) + c # pguess = (1,1,1)\n",
    "\n",
    "def plotCoeff(x, y, yerr, title_=\"\", ylabel_=\"\", xlabel_=\"Conc by vol (%)\", fitter=quadratic, pguess=(1,1,1), residuals=True, fitlow=None, fithigh=None,**kwds):\n",
    "    fig = plt.figure()\n",
    "    if fitlow is None or fithigh is None:\n",
    "        pfit, pcov = curve_fit(f=fitter, xdata=x, ydata=y, p0=pguess, \n",
    "                            sigma=None, absolute_sigma=True, **kwds)\n",
    "    else:\n",
    "        pfit, pcov = curve_fit(f=fitter, xdata=x[fitlow:fithigh], ydata=y[fitlow:fithigh], p0=pguess, \n",
    "                            sigma=None, absolute_sigma=True, **kwds)\n",
    "        \n",
    "    xs = np.linspace(0, x[-1])\n",
    "    ys = fitter(xs, *pfit)\n",
    "\n",
    "    #main data and model\n",
    "    ax1 = fig.add_axes((0, 0.2, 0.8, 0.8))\n",
    "    ax1.errorbar(x=x, y=y, yerr=yerr, fmt=\"r.\", capsize=5)\n",
    "    ax1.plot(xs, ys, \"b--\")\n",
    "    #ax1.set_title(\"Lorenceau fit, \" + title_)\n",
    "    ax1.set_xlabel(xlabel_)\n",
    "    ax1.set_ylabel(ylabel_)\n",
    "\n",
    "    #residuals\n",
    "    if residuals:\n",
    "        xs = x\n",
    "        yres = y - fitter(xs, *pfit)\n",
    "        ax2 = fig.add_axes((0, 0, 0.8, 0.2), sharex=ax1)\n",
    "        ax2.errorbar(xs, yres, yerr, fmt=\"b.\", capsize=5, )\n",
    "        ax2.set_xlabel(xlabel_)\n",
    "        ax2.set_ylabel(\"Residuals\")\n",
    "\n",
    "        #histogram\n",
    "        ax3 = fig.add_axes((0.8, 0, 0.2, 0.2), sharey=ax2)\n",
    "        ax3.hist(x=yres, bins=8, orientation=\"horizontal\")\n",
    "        \n",
    "        #chisq of fitting values\n",
    "        chisqmin = chiSq(pfit, fitter, x, y, yerr)\n",
    "        DoF = x.size - len(pguess)\n",
    "        redchisqmin = chisqmin / DoF\n",
    "\n",
    "        p_val = chi2.sf(chisqmin, DoF)\n",
    "\n",
    "        return pfit, np.sqrt(np.diag(pcov)), redchisqmin, p_val\n",
    "    else:\n",
    "        return pfit, np.sqrt(np.diag(pcov))\n",
    "\n",
    "def plotData(filenames, data):\n",
    "    conc = np.array([int(x[0])*10 for x in filenames])\n",
    "    print(\"Factor\", plotCoeff(x=conc, y=data[:, 0, 0], yerr=data[:, 0, 1], title_=\"Factor\", \\\n",
    "        ylabel_=\"Factor (unitless)\", fitter=linear, pguess=(1,1), residuals=False))\n",
    "\n",
    "    print(\"Omega Linear\", plotCoeff(x=conc, y=data[:, 1, 0], yerr=data[:, 1, 1], title_=\"Omega\",\\\n",
    "        ylabel_=\"Omega (unitless)\", fitter=linear, pguess=(1,1), residuals=False))\n",
    "\n",
    "    print(\"Omega Quadratic\", plotCoeff(x=conc, y=data[:, 1, 0], yerr=data[:, 1, 1], title_=\"Omega\",\\\n",
    "        ylabel_=\"Omega (unitless)\", fitter=quadratic, pguess=(1,1,1), residuals=False))\n",
    "\n",
    "    # print(\"Omega Exp\", plotCoeff(x=conc, y=data[:, 1, 0], yerr=data[:, 1, 1], title_=\"Omega\", \\\n",
    "    #     ylabel_=\"Omega (unitless)\", fitter=expon, pguess=(0.001, 5, 1), residuals=False))\n",
    "\n",
    "    # print(\"Omega Exp(x)/x\", plotCoeff(x=conc, y=data[:, 1, 0], yerr=data[:, 1, 1], title_=\"Omega\", \\\n",
    "    #     ylabel_=\"Omega (unitless)\", fitter=expxonx, pguess=(0.001, 5, 1), residuals=False))\n",
    "    \n",
    "\n",
    "def plotDataMulti(filenames, data):\n",
    "    conc = np.array([int(x[0])*10 for x in filenames[::3]])\n",
    "    es = np.array(etas)\n",
    "    rs = np.array(rhos)\n",
    "\n",
    "    ys = np.array([np.average(data[x:x+3, 0, 0]) for x in range(0, len(data), 3)])\n",
    "    yerr = np.array([np.sqrt(np.average(data[x:x+3, 0, 1]**2)) for x in range(0, len(data), 3)])\n",
    "    # print(\"Factor Linear\", plotCoeff(conc, ys, yerr, \\\n",
    "    #     title_=\"Factor\", ylabel_=\"Factor (unitless)\", fitter=linear, pguess=(1,1), residuals=False))\n",
    "\n",
    "    ys = np.array([np.average(data[x:x+3, 1, 0]) for x in range(0, len(data), 3)])\n",
    "    yerr = np.array([np.sqrt(np.average(data[x:x+3, 1, 1]**2)) for x in range(0, len(data), 3)])\n",
    "    # print(\"Omega Linear\", plotCoeff(x=conc, y=ys, yerr=yerr, \\\n",
    "    #     title_=\"Omega\", ylabel_=\"Omega (unitless)\", fitter=linear, pguess=(1,1), residuals=False,\\\n",
    "    #         fitlow=0, fithigh=-1))\n",
    "    # print(\"Omega Linear\", plotCoeff(x=conc[:-1], y=ys[:-1], yerr=yerr[:-1], \\\n",
    "    #     title_=\"Omega\", ylabel_=\"Omega (unitless)\", fitter=linear, pguess=(1,1), residuals=False))\n",
    "    # print(\"Omega Quadratic\", plotCoeff(conc, ys, yerr, \\\n",
    "    #     title_=\"Omega\", ylabel_=\"Omega (unitless)\", fitter=quadratic, pguess=(1,1,1), residuals=False))\n",
    "    # print(\"Omega Quadratic\", plotCoeff(conc[:-1], ys[:-1], yerr[:-1], \\\n",
    "    #     title_=\"Omega\", ylabel_=\"Omega (unitless)\", fitter=quadratic, pguess=(1,1,1), residuals=False))\n",
    "    print(\"Omega vs Eta/Rho\",plotCoeff(es/rs, ys, yerr, \"Omega\", \"Omega (unitless)\", \\\n",
    "        xlabel_=\"$\\eta / \\\\rho$ ($m^2 s^{-1}$)\",fitter=linear, pguess=(0,0.3), residuals=False))\n",
    "    print(\"Omega vs Eta/Rho\",plotCoeff(es/rs**(3/2), ys, yerr, \"Omega\", \"Omega (unitless)\", \\\n",
    "        xlabel_=\"$\\eta / \\\\rho^{3/2}$ ($m^2 s^{-1}$)\",fitter=linear, pguess=(0,0.3), residuals=False))    \n",
    "    # print(\"Omega vs Eta/Rho\",plotCoeff((es/rs)[:-1], ys[:-1], yerr[:-1], \"Omega\", \"Omega (unitless)\", \\\n",
    "    #     xlabel_=\"$\\eta / \\\\rho$ ($m^2 s^{-1}$)\",fitter=linear, pguess=(0,0.3), residuals=False))\n"
   ]
  },
  {
   "cell_type": "code",
   "execution_count": 23,
   "metadata": {},
   "outputs": [
    {
     "name": "stdout",
     "output_type": "stream",
     "text": [
      "Omega vs Eta/Rho (array([4.27451000e+04, 1.21114166e-01]), array([4.58015223e+04, 4.68952100e-01]))\n",
      "Omega vs Eta/Rho (array([1.48114912e+06, 1.15624863e-01]), array([1.58712814e+06, 4.72846451e-01]))\n"
     ]
    },
    {
     "data": {
      "image/png": "[encoded data removed]",
      "text/plain": [
       "<Figure size 432x288 with 1 Axes>"
      ]
     },
     "metadata": {
      "needs_background": "light"
     },
     "output_type": "display_data"
    },
    {
     "data": {
      "image/png": "[encoded data removed]",
      "text/plain": [
       "<Figure size 432x288 with 1 Axes>"
      ]
     },
     "metadata": {
      "needs_background": "light"
     },
     "output_type": "display_data"
    }
   ],
   "source": [
    "# both plots use linear fits and dont fit visually.\n",
    "# i think this is mostly due to errorbar size on most of the values\n",
    "#plotData(Filenames, Data)\n",
    "plotDataMulti(Filenames, Data)"
   ]
  },
  {
   "cell_type": "code",
   "execution_count": null,
   "metadata": {},
   "outputs": [],
   "source": []
  }
 ],
 "metadata": {
  "interpreter": {
   "hash": "b3ba2566441a7c06988d0923437866b63cedc61552a5af99d1f4fb67d367b25f"
  },
  "kernelspec": {
   "display_name": "Python 3.8.8 ('base')",
   "language": "python",
   "name": "python3"
  },
  "language_info": {
   "codemirror_mode": {
    "name": "ipython",
    "version": 3
   },
   "file_extension": ".py",
   "mimetype": "text/x-python",
   "name": "python",
   "nbconvert_exporter": "python",
   "pygments_lexer": "ipython3",
   "version": "3.8.8"
  },
  "orig_nbformat": 4
 },
 "nbformat": 4,
 "nbformat_minor": 2
}
