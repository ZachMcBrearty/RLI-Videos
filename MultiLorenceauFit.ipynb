{
 "cells": [
  {
   "cell_type": "code",
   "execution_count": 75,
   "metadata": {},
   "outputs": [],
   "source": [
    "# import libraries\n",
    "import numpy as np\n",
    "import scipy as sp\n",
    "from ipywidgets import interact\n",
    "from scipy.integrate import odeint\n",
    "from scipy.optimize import curve_fit\n",
    "import matplotlib.pyplot as plt\n",
    "# This makes the plots appear inside the notebook\n",
    "%matplotlib inline"
   ]
  },
  {
   "cell_type": "code",
   "execution_count": 76,
   "metadata": {},
   "outputs": [],
   "source": [
    "# parameters used throughout the code\n",
    "h = 9 # immersion depth of straw, cm\n",
    "H = 20 # length of straw, cm\n",
    "g = 9.8 # gravity, ms^-2\n",
    "D = 0.007 # diameter of straw, m\n",
    "\n",
    "P_atm = 1030\n",
    "\n",
    "t_norm = (h*1e-2/g)**-0.5 #normalisation constant, 1e-2 cm to m\n",
    "\n",
    "# Calculated using \"http://www.met.reading.ac.uk/~sws04cdw/viscosity_calc.html\"\n",
    "# 0%, 10%, 20%, ..., 70% by volume\n",
    "# all values at 23degC\n",
    "rhos = [997.38, 1026.6, 1055.8, 1084.7, 1113.0,\n",
    "        1140.3, 1166.6, 1191.6] # kg/m^3\n",
    "etas = [0.00093505, 0.0012808, 0.0018249, 0.0027285, 0.0043309,\n",
    "        0.0074104, 0.013960, 0.029822] # Ns/m^-2"
   ]
  },
  {
   "cell_type": "code",
   "execution_count": 77,
   "metadata": {},
   "outputs": [],
   "source": [
    "def DZ_dt_Lor(Z, t, args):\n",
    "    Omeg = args[0]\n",
    "    if Z[1]>0:\n",
    "        return [Z[1], 1/Z[0] - 1 -Omeg*Z[1] - (Z[1])**2/Z[0]]\n",
    "    else:\n",
    "        return [Z[1], 1/Z[0] - 1 -Omeg*Z[1]]\n",
    "\n",
    "def loadData(filename):\n",
    "    data = np.genfromtxt(filename,delimiter='\\t',skip_header=2 )\n",
    "    time_data = data[:,0]\n",
    "    z_data = data[:,2]*100 # bc in m\n",
    "\n",
    "    timeshift = time_data[0] # shifted so that t=0 is the time in video that the cap is released.\n",
    "    time_data_clean = time_data[np.isfinite(z_data)]-timeshift # cleaned data includes the timeshift, and removes any instances of infinite.\n",
    "    z_data_clean = z_data[np.isfinite(z_data)]\n",
    "    z_err = np.full(shape=z_data_clean.shape, fill_value=0.1)\n",
    "\n",
    "    #z_0 = 1.954e-2 # height of liquid in straw, cm # calculated as d\n",
    "    conc = int(filename[0])\n",
    "    eta = etas[conc] # Ns/m^-2\n",
    "    rho = rhos[conc] # kg/m^3\n",
    "    omeg = 16 * eta * (h * 10**-2)**0.5 / (rho * (D/2)**2 * g**0.5)\n",
    "    d = (1 - P_atm/(rho*(10**-3)*h + P_atm))*H # initial height of liquid in straw\n",
    "\n",
    "    def func(t, factor):\n",
    "        Omeg = omeg*factor\n",
    "        h=9\n",
    "        t_solnLor = np.arange(0, round(max(time_data_clean)*t_norm, 3), 0.001)\n",
    "        Z_soln = sp.integrate.odeint(DZ_dt_Lor, [d, 0.00], t_solnLor, args=((Omeg,),))\n",
    "        z_soln = Z_soln[:, 0]*h\n",
    "        t_solnLor /= t_norm # unnormalise to compare to real \n",
    "        # find corresponding t values and the z_soln for them\n",
    "        # searchsorted should be safe as the time data will all be in order\n",
    "        zout = z_soln[np.searchsorted(t_solnLor, t)-1]\n",
    "        return zout-h\n",
    "\n",
    "    return time_data_clean, z_data_clean, z_err, omeg, func\n",
    "\n",
    "# currently taking the h to be constant (which is what we set it as)\n",
    "# allowing it to vary in the model is interesting but ultimately wrong\n",
    "def analyse(filename, plot=False, ax=None):\n",
    "    timedata, zdata, zerr, omeg, func = loadData(filename)\n",
    "    P = curve_fit(func, timedata, zdata, p0=(1),  sigma=zerr, absolute_sigma=True)\n",
    "    vals = P[0]\n",
    "    err = np.sqrt(np.diag(P[1]))\n",
    "    h = [9, 0.1]#[vals[0], err[0]]\n",
    "    if plot:\n",
    "        if ax is None:\n",
    "            ax = plt.figure()\n",
    "        #plt.scatter(timedata, zdata, label=f\"{filename}\")\n",
    "        plt.errorbar(timedata, zdata+h[0], zerr, fmt=\"b.\", capsize=2, label=f\"{filename}\")\n",
    "        plt.plot(timedata[1:], func(timedata[1:], *P[0])+h[0],\"g--\", label=\"Lorenceau\")\n",
    "        plt.legend()\n",
    "    factor = [vals[0], err[0]]\n",
    "    Omeg = [vals[0]*omeg, err[0]*omeg]\n",
    "\n",
    "    return factor, Omeg, h\n",
    "\n",
    "def analyseAll(plots=False):\n",
    "    filenames = []\n",
    "    data = []\n",
    "    # as with MultiSimpleFit this can be cleaned up\n",
    "    # when we get 30%\n",
    "    for perc in range(0, 30, 10):\n",
    "        for file in [f\"{perc}%V1\",f\"{perc}%V2\",f\"{perc}%V3\"]:\n",
    "            filenames.append(file)\n",
    "            data.append(analyse(file, plot=plots))\n",
    "    for perc in range(40, 80, 10):\n",
    "        for file in [f\"{perc}%V1\",f\"{perc}%V2\",f\"{perc}%V3\"]:\n",
    "            filenames.append(file)\n",
    "            data.append(analyse(file, plot=plots))\n",
    "    return np.array(filenames), np.array(data)\n",
    "    \n",
    "# potential fitting regimes\n",
    "linear = lambda x, a, b: a*x+b # pguess = (1,1)\n",
    "quadratic = lambda x, a, b, c: a*x**2+b*x+c # pguess = (1,1,1)\n",
    "\n",
    "def plotCoeff(x, y, yerr, title_=\"\", ylabel_=\"\", fitter=quadratic, pguess=(1,1,1), **kwds):\n",
    "    fig = plt.figure()\n",
    "    pfit, pcov = curve_fit(f=fitter, xdata=x, ydata=y, p0=pguess, \n",
    "                           sigma=yerr, absolute_sigma=True, **kwds)\n",
    "    xs = np.linspace(0, x[-1])\n",
    "    ys = fitter(xs, *pfit)\n",
    "\n",
    "    #main data and model\n",
    "    ax1 = fig.add_axes((0, 0.2, 0.8, 0.8))\n",
    "    ax1.errorbar(x=x, y=y, yerr=yerr, fmt=\"r.\", capsize=5)\n",
    "    ax1.plot(xs, ys, \"b--\")\n",
    "    ax1.set_title(\"Lorenceau fit, \" + title_)\n",
    "    ax1.set_xlabel(\"Conc by vol (%)\")\n",
    "    ax1.set_ylabel(ylabel_)\n",
    "\n",
    "    #residuals\n",
    "    xs = x\n",
    "    yres = y - fitter(xs, *pfit)\n",
    "    ax2 = fig.add_axes((0, 0, 0.8, 0.2), sharex=ax1)\n",
    "    ax2.errorbar(xs, yres, yerr, fmt=\"b.\", capsize=5, )\n",
    "    ax2.set_xlabel(\"Conc by vol (%)\")\n",
    "    ax2.set_ylabel(\"Residuals\")\n",
    "\n",
    "    #histogram\n",
    "    ax3 = fig.add_axes((0.8, 0, 0.2, 0.2), sharey=ax2)\n",
    "    ax3.hist(x=yres, bins=8, orientation=\"horizontal\")\n",
    "    \n",
    "    return pfit, np.sqrt(np.diag(pcov))\n",
    "\n",
    "def plotData(filenames, data):\n",
    "    conc = np.array([int(x[0])*10 for x in filenames])\n",
    "    plotCoeff(conc, data[:, 0, 0], data[:, 0, 1], \"Factor\", \"Factor (unitless)\", linear, (1,1))\n",
    "    plotCoeff(conc, data[:, 1, 0], data[:, 1, 1], \"Omega\", \"Omega (unitless), $\\Omega_{derived}$ * factor\", linear, (1,1))\n",
    "    #plotCoeff(conc, data[:, 2, 0], data[:, 2, 1], \"depth of straw submersion\", \"h (cm)\", linear, (1,1))"
   ]
  },
  {
   "cell_type": "code",
   "execution_count": 78,
   "metadata": {},
   "outputs": [],
   "source": [
    "Filenames, Data = analyseAll(False)"
   ]
  },
  {
   "cell_type": "code",
   "execution_count": 79,
   "metadata": {},
   "outputs": [],
   "source": [
    "def printData(filenames, data):\n",
    "    for f, d in zip(filenames, data):\n",
    "        print(f\"{f}: Factor: {d[0][0]} +/- {d[0][1]}\\n\\\n",
    "            Omeg: {d[1][0]} +/- {d[1][1]}\\n\\\n",
    "            h: {d[2][0]} +/- {d[2][1]}\")\n",
    "#printData(Filenames, Data)"
   ]
  },
  {
   "cell_type": "code",
   "execution_count": 80,
   "metadata": {},
   "outputs": [],
   "source": [
    "# potential fitting regimes\n",
    "linear = lambda x, a, b: a*x+b # pguess = (1,1)\n",
    "quadratic = lambda x, a, b, c: a*x**2+b*x+c # pguess = (1,1,1)\n",
    "\n",
    "def plotCoeff(x, y, yerr, title_=\"\", ylabel_=\"\", fitter=quadratic, pguess=(1,1,1), **kwds):\n",
    "    fig = plt.figure()\n",
    "    pfit, pcov = curve_fit(f=fitter, xdata=x, ydata=y, p0=pguess, \n",
    "                           sigma=yerr, absolute_sigma=True, **kwds)\n",
    "    xs = np.linspace(0, x[-1])\n",
    "    ys = fitter(xs, *pfit)\n",
    "\n",
    "    #main data and model\n",
    "    ax1 = fig.add_axes((0, 0.2, 0.8, 0.8))\n",
    "    ax1.errorbar(x=x, y=y, yerr=yerr, fmt=\"r.\", capsize=5)\n",
    "    ax1.plot(xs, ys, \"b--\")\n",
    "    ax1.set_title(\"Lorenceau fit, \" + title_)\n",
    "    ax1.set_xlabel(\"Conc by vol (%)\")\n",
    "    ax1.set_ylabel(ylabel_)\n",
    "\n",
    "    #residuals\n",
    "    xs = x\n",
    "    yres = y - fitter(xs, *pfit)\n",
    "    ax2 = fig.add_axes((0, 0, 0.8, 0.2), sharex=ax1)\n",
    "    ax2.errorbar(xs, yres, yerr, fmt=\"b.\", capsize=5, )\n",
    "    ax2.set_xlabel(\"Conc by vol (%)\")\n",
    "    ax2.set_ylabel(\"Residuals\")\n",
    "\n",
    "    #histogram\n",
    "    ax3 = fig.add_axes((0.8, 0, 0.2, 0.2), sharey=ax2)\n",
    "    ax3.hist(x=yres, bins=8, orientation=\"horizontal\")\n",
    "    \n",
    "    return pfit, np.sqrt(np.diag(pcov))\n",
    "\n",
    "def plotData(filenames, data):\n",
    "    conc = np.array([int(x[0])*10 for x in filenames])\n",
    "    plotCoeff(conc, data[:, 0, 0], data[:, 0, 1], \"Factor\", \"Factor (unitless)\", linear, (1,1))\n",
    "    plotCoeff(conc, data[:, 1, 0], data[:, 1, 1], \"Omega\", \"Omega (unitless), $\\Omega_{derived}$ * factor\", linear, (1,1))\n",
    "\n"
   ]
  },
  {
   "cell_type": "code",
   "execution_count": 81,
   "metadata": {},
   "outputs": [
    {
     "data": {
      "image/png": "[encoded data removed]",
      "text/plain": [
       "<Figure size 432x288 with 3 Axes>"
      ]
     },
     "metadata": {
      "needs_background": "light"
     },
     "output_type": "display_data"
    },
    {
     "data": {
      "image/png": "[encoded data removed]",
      "text/plain": [
       "<Figure size 432x288 with 3 Axes>"
      ]
     },
     "metadata": {
      "needs_background": "light"
     },
     "output_type": "display_data"
    }
   ],
   "source": [
    "# both plots use linear fits and dont fit visually.\n",
    "# i think this is mostly due to errorbar size on most of the values\n",
    "plotData(Filenames, Data)"
   ]
  },
  {
   "cell_type": "code",
   "execution_count": null,
   "metadata": {},
   "outputs": [],
   "source": []
  }
 ],
 "metadata": {
  "interpreter": {
   "hash": "b3ba2566441a7c06988d0923437866b63cedc61552a5af99d1f4fb67d367b25f"
  },
  "kernelspec": {
   "display_name": "Python 3.8.8 ('base')",
   "language": "python",
   "name": "python3"
  },
  "language_info": {
   "codemirror_mode": {
    "name": "ipython",
    "version": 3
   },
   "file_extension": ".py",
   "mimetype": "text/x-python",
   "name": "python",
   "nbconvert_exporter": "python",
   "pygments_lexer": "ipython3",
   "version": "3.8.8"
  },
  "orig_nbformat": 4
 },
 "nbformat": 4,
 "nbformat_minor": 2
}
