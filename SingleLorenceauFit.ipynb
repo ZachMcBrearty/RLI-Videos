{
 "cells": [
  {
   "cell_type": "markdown",
   "metadata": {},
   "source": [
    "## Analysis of Gravity-driven Fluid Oscillations in a Drinking Straw\n",
    "\n",
    "Analysis script for numerical solution of differential equation"
   ]
  },
  {
   "cell_type": "code",
   "execution_count": 34,
   "metadata": {
    "collapsed": false
   },
   "outputs": [],
   "source": [
    "# import libraries\n",
    "import numpy as np\n",
    "import scipy as sp\n",
    "from ipywidgets import interact\n",
    "from scipy.integrate import odeint\n",
    "import matplotlib.pyplot as plt\n",
    "# This makes the plots appear inside the notebook\n",
    "%matplotlib inline\n",
    "# %matplotlib nbagg"
   ]
  },
  {
   "cell_type": "code",
   "execution_count": 35,
   "metadata": {},
   "outputs": [],
   "source": [
    "# parameters used throughout the code\n",
    "h = 9 # immersion depth of straw, cm\n",
    "H = 20 # length of straw, cm\n",
    "g = 9.8 # gravity, ms^-2\n",
    "D = 0.007 # diameter of straw, m\n",
    "\n",
    "t_norm = (h*1e-2/g)**-0.5 #normalisation constant, 1e-2 cm to m\n",
    "\n",
    "# Calculated using \"http://www.met.reading.ac.uk/~sws04cdw/viscosity_calc.html\"\n",
    "# 0%, 10%, 20%, ..., 70% by volume\n",
    "# all values at 23degC\n",
    "rhos = [997.38, 1026.6, 1055.8, 1084.7, 1113.0,\n",
    "        1140.3, 1166.6, 1191.6] # kg/m^3\n",
    "etas = [0.00093505, 0.0012808, 0.0018249, 0.0027285, 0.0043309,\n",
    "        0.0074104, 0.013960, 0.029822] # Ns/m^-2"
   ]
  },
  {
   "cell_type": "code",
   "execution_count": 50,
   "metadata": {},
   "outputs": [
    {
     "name": "stdout",
     "output_type": "stream",
     "text": [
      "0.8134196087647061\n"
     ]
    }
   ],
   "source": [
    "filename = \"50%V1\"\n",
    "data = np.genfromtxt(filename,delimiter='\\t',skip_header=2)\n",
    "time_data = data[:,0]\n",
    "z_data = data[:,2]*100 # bc in m\n",
    "\n",
    "timeshift = time_data[0] # shifted so that t=0 is the time in video that the cap is released.\n",
    "time_data_clean = time_data[np.isfinite(z_data)]-timeshift # cleaned data includes the timeshift, and removes any instances of infinite.\n",
    "z_data_clean = z_data[np.isfinite(z_data)]\n",
    "z_err = np.full(shape=z_data_clean.shape, fill_value=0.)\n",
    "\n",
    "z_0 = 1.954e-2 # height of liquid in straw, cm\n",
    "conc = int(filename[0]) #2\n",
    "eta = etas[conc] # Ns/m^-2\n",
    "rho = rhos[conc] # kg/m^3\n",
    "omeg = 16 * eta * (h * 10**-2)**0.5 / (rho * (D/2)**2 * g**0.5)\n",
    "print(omeg)"
   ]
  },
  {
   "cell_type": "code",
   "execution_count": 51,
   "metadata": {
    "collapsed": false
   },
   "outputs": [
    {
     "data": {
      "image/png": "[encoded data removed]",
      "text/plain": [
       "<Figure size 432x288 with 1 Axes>"
      ]
     },
     "metadata": {
      "needs_background": "light"
     },
     "output_type": "display_data"
    }
   ],
   "source": [
    "# plot raw data\n",
    "plt.errorbar(time_data_clean[:],z_data_clean[:], yerr=z_err, fmt='.')\n",
    "plt.xlabel('time (sec)',fontsize=15)\n",
    "plt.ylabel('fluid level (cm)',fontsize=15)\n",
    "plt.show()"
   ]
  },
  {
   "cell_type": "code",
   "execution_count": 52,
   "metadata": {
    "collapsed": false
   },
   "outputs": [
    {
     "name": "stdout",
     "output_type": "stream",
     "text": [
      "fluid level will be 0.20 cm above the bottom of the straw\n"
     ]
    }
   ],
   "source": [
    "# calculate the initial starting level of the fluid in the submersed straw using fluid statics:\n",
    "P_atm = 1030 # g/cm^2\n",
    "d = (1 - P_atm/(rho*(10**-3)*h + P_atm))*H\n",
    "#z_0 = d\n",
    "print('fluid level will be %2.2f cm above the bottom of the straw'%(d))"
   ]
  },
  {
   "cell_type": "markdown",
   "metadata": {},
   "source": [
    "We define the 0th column of the array Y as as $y$, 1th column of Z as $\\dot{z}$. \n",
    "\n",
    "$$\n",
    "\\vec{Z} =  \\begin{pmatrix}\n",
    "z\\\\\n",
    "\\dot{z}\n",
    "\\end{pmatrix}\n",
    "$$\n",
    "\n",
    "Then our defined function DZ_dt returns the derivatives of the array Y: \n",
    "\n",
    "$$\n",
    "\\dot{\\vec{Z}}=\\begin{pmatrix}\n",
    "\\dot{z}\\\\ \n",
    "\\ddot{z}\n",
    "\\end{pmatrix}\n",
    "$$\n",
    "as the right hand side of our ordinary differential equation, where $\\ddot{z}$ is filled in for the derived expression in the differential equation.\n",
    "\n",
    "The function odeint from scipy can solve this for $z(t)$. "
   ]
  },
  {
   "cell_type": "code",
   "execution_count": 53,
   "metadata": {
    "collapsed": false
   },
   "outputs": [
    {
     "ename": "RuntimeError",
     "evalue": "Optimal parameters not found: Number of calls to function has reached maxfev = 600.",
     "output_type": "error",
     "traceback": [
      "\u001b[1;31m---------------------------------------------------------------------------\u001b[0m",
      "\u001b[1;31mRuntimeError\u001b[0m                              Traceback (most recent call last)",
      "\u001b[1;32m<ipython-input-53-4a34ab91748c>\u001b[0m in \u001b[0;36m<module>\u001b[1;34m\u001b[0m\n\u001b[0;32m     54\u001b[0m     \u001b[0mplt\u001b[0m\u001b[1;33m.\u001b[0m\u001b[0mshow\u001b[0m\u001b[1;33m(\u001b[0m\u001b[1;33m)\u001b[0m\u001b[1;33m\u001b[0m\u001b[1;33m\u001b[0m\u001b[0m\n\u001b[0;32m     55\u001b[0m \u001b[1;33m\u001b[0m\u001b[0m\n\u001b[1;32m---> 56\u001b[1;33m \u001b[0mfittedparams\u001b[0m \u001b[1;33m=\u001b[0m \u001b[0msp\u001b[0m\u001b[1;33m.\u001b[0m\u001b[0moptimize\u001b[0m\u001b[1;33m.\u001b[0m\u001b[0mcurve_fit\u001b[0m\u001b[1;33m(\u001b[0m\u001b[0mmodel\u001b[0m\u001b[1;33m,\u001b[0m \u001b[0mxdata\u001b[0m\u001b[1;33m=\u001b[0m\u001b[0mtime_data_clean\u001b[0m\u001b[1;33m,\u001b[0m \u001b[0mydata\u001b[0m\u001b[1;33m=\u001b[0m\u001b[0mz_data_clean\u001b[0m\u001b[1;33m+\u001b[0m\u001b[0mh\u001b[0m\u001b[1;33m,\u001b[0m \u001b[0mp0\u001b[0m\u001b[1;33m=\u001b[0m\u001b[1;33m(\u001b[0m\u001b[1;36m9\u001b[0m\u001b[1;33m,\u001b[0m \u001b[1;36m1\u001b[0m\u001b[1;33m)\u001b[0m\u001b[1;33m,\u001b[0m \u001b[0msigma\u001b[0m\u001b[1;33m=\u001b[0m\u001b[0mz_err\u001b[0m\u001b[1;33m)\u001b[0m\u001b[1;33m\u001b[0m\u001b[1;33m\u001b[0m\u001b[0m\n\u001b[0m\u001b[0;32m     57\u001b[0m \u001b[0mprint\u001b[0m\u001b[1;33m(\u001b[0m\u001b[1;33m[\u001b[0m\u001b[1;34m\"height\"\u001b[0m\u001b[1;33m,\u001b[0m\u001b[1;34m\"factor\"\u001b[0m\u001b[1;33m]\u001b[0m\u001b[1;33m,\u001b[0m \u001b[0mfittedparams\u001b[0m\u001b[1;33m[\u001b[0m\u001b[1;36m0\u001b[0m\u001b[1;33m]\u001b[0m\u001b[1;33m,\u001b[0m \u001b[0mnp\u001b[0m\u001b[1;33m.\u001b[0m\u001b[0msqrt\u001b[0m\u001b[1;33m(\u001b[0m\u001b[0mnp\u001b[0m\u001b[1;33m.\u001b[0m\u001b[0mdiag\u001b[0m\u001b[1;33m(\u001b[0m\u001b[0mfittedparams\u001b[0m\u001b[1;33m[\u001b[0m\u001b[1;36m1\u001b[0m\u001b[1;33m]\u001b[0m\u001b[1;33m)\u001b[0m\u001b[1;33m)\u001b[0m\u001b[1;33m)\u001b[0m\u001b[1;33m\u001b[0m\u001b[1;33m\u001b[0m\u001b[0m\n\u001b[0;32m     58\u001b[0m \u001b[0mplot_osc\u001b[0m\u001b[1;33m(\u001b[0m\u001b[1;33m*\u001b[0m\u001b[1;33m(\u001b[0m\u001b[0mfittedparams\u001b[0m\u001b[1;33m[\u001b[0m\u001b[1;36m0\u001b[0m\u001b[1;33m]\u001b[0m\u001b[1;33m)\u001b[0m\u001b[1;33m)\u001b[0m\u001b[1;33m\u001b[0m\u001b[1;33m\u001b[0m\u001b[0m\n",
      "\u001b[1;32mC:\\ProgramData\\Anaconda3\\lib\\site-packages\\scipy\\optimize\\minpack.py\u001b[0m in \u001b[0;36mcurve_fit\u001b[1;34m(f, xdata, ydata, p0, sigma, absolute_sigma, check_finite, bounds, method, jac, **kwargs)\u001b[0m\n\u001b[0;32m    787\u001b[0m         \u001b[0mcost\u001b[0m \u001b[1;33m=\u001b[0m \u001b[0mnp\u001b[0m\u001b[1;33m.\u001b[0m\u001b[0msum\u001b[0m\u001b[1;33m(\u001b[0m\u001b[0minfodict\u001b[0m\u001b[1;33m[\u001b[0m\u001b[1;34m'fvec'\u001b[0m\u001b[1;33m]\u001b[0m \u001b[1;33m**\u001b[0m \u001b[1;36m2\u001b[0m\u001b[1;33m)\u001b[0m\u001b[1;33m\u001b[0m\u001b[1;33m\u001b[0m\u001b[0m\n\u001b[0;32m    788\u001b[0m         \u001b[1;32mif\u001b[0m \u001b[0mier\u001b[0m \u001b[1;32mnot\u001b[0m \u001b[1;32min\u001b[0m \u001b[1;33m[\u001b[0m\u001b[1;36m1\u001b[0m\u001b[1;33m,\u001b[0m \u001b[1;36m2\u001b[0m\u001b[1;33m,\u001b[0m \u001b[1;36m3\u001b[0m\u001b[1;33m,\u001b[0m \u001b[1;36m4\u001b[0m\u001b[1;33m]\u001b[0m\u001b[1;33m:\u001b[0m\u001b[1;33m\u001b[0m\u001b[1;33m\u001b[0m\u001b[0m\n\u001b[1;32m--> 789\u001b[1;33m             \u001b[1;32mraise\u001b[0m \u001b[0mRuntimeError\u001b[0m\u001b[1;33m(\u001b[0m\u001b[1;34m\"Optimal parameters not found: \"\u001b[0m \u001b[1;33m+\u001b[0m \u001b[0merrmsg\u001b[0m\u001b[1;33m)\u001b[0m\u001b[1;33m\u001b[0m\u001b[1;33m\u001b[0m\u001b[0m\n\u001b[0m\u001b[0;32m    790\u001b[0m     \u001b[1;32melse\u001b[0m\u001b[1;33m:\u001b[0m\u001b[1;33m\u001b[0m\u001b[1;33m\u001b[0m\u001b[0m\n\u001b[0;32m    791\u001b[0m         \u001b[1;31m# Rename maxfev (leastsq) to max_nfev (least_squares), if specified.\u001b[0m\u001b[1;33m\u001b[0m\u001b[1;33m\u001b[0m\u001b[1;33m\u001b[0m\u001b[0m\n",
      "\u001b[1;31mRuntimeError\u001b[0m: Optimal parameters not found: Number of calls to function has reached maxfev = 600."
     ]
    }
   ],
   "source": [
    "# Solving the Newton's law model and also equations 17a and 17b from Lorenceau paper:\n",
    "\n",
    "# Lorenceau model:\n",
    "def DZ_dt_Lor(Z, t, args):\n",
    "    Omeg = args[0]\n",
    "    if Z[1]>0:\n",
    "        return [Z[1], 1/Z[0] - 1 -Omeg*Z[1] - (Z[1])**2/Z[0]]\n",
    "    else:\n",
    "        return [Z[1], 1/Z[0] - 1 -Omeg*Z[1]]\n",
    "        \n",
    "def model(t_data, h, factor):\n",
    "    Omeg = omeg*factor\n",
    "    params = (Omeg,)\n",
    "    \n",
    "    t_solnLor = np.arange(0, round(max(time_data_clean)*t_norm, 3), 0.001)\n",
    "    Z_soln = sp.integrate.odeint(DZ_dt_Lor, [z_0, 0.00], t_solnLor, args=(params,))\n",
    "    z_soln = Z_soln[:, 0]*h# - x_off # move computation down to the data\n",
    "    t_solnLor /= t_norm # unnormalise to compare to real t_data\n",
    "    zout = z_soln[np.searchsorted(t_solnLor, t_data)-1] # find corresponding t values and the z_soln for them\n",
    "    return zout\n",
    "\n",
    "def plot_osc(h=9, factor=2.60):\n",
    "    # prepare data for plottin\n",
    "    z_data1 = z_data_clean+h # change the overall level so that bottom of straw is z=0\n",
    "    time_axis1 = time_data_clean  # only include data for positive times (after cap is released)\n",
    "    \n",
    "    # prepare parameters for solving models:\n",
    "    Omeg = omeg*factor\n",
    "    params=(Omeg,)\n",
    "    \n",
    "    # solve Lorenceau model, equation 17a and 17b....\n",
    "    t_solnLor = np.arange(0, round(max(time_data_clean)*t_norm, 3), 0.01)\n",
    "    Z_soln_Lor = sp.integrate.odeint(DZ_dt_Lor, [z_0, 0.00], t_solnLor, args=(params,))   \n",
    "    \n",
    "    z_soln_Lor = Z_soln_Lor[:,0]*h       # fluid height\n",
    "\n",
    "    plt.clf()\n",
    "\n",
    "    plt.xlabel('time (sec)',fontsize=15)\n",
    "    plt.ylabel('fluid level (cm)',fontsize=15)\n",
    "    plt.rc('xtick', labelsize=10)\n",
    "    plt.rc('ytick', labelsize=10)\n",
    "\n",
    "    plt.plot(t_solnLor/t_norm,z_soln_Lor,'g--',label='Lorenceau model')\n",
    "    #plt.plot(time_axis1+t_off,z_data1+x_off,'b.',label='Data') \n",
    "    plt.errorbar(time_axis1, z_data1, yerr=z_err, fmt='b.',label='Data')\n",
    "\n",
    "    plt.title('Fluid level oscillations with both models\\nOmega=%2.2e (no unit), factor=%2.2e, h=%2.2e\\nfilename = %s'%(Omeg, factor,h,filename),fontsize=15)\n",
    "    plt.legend(frameon=False,loc=1)\n",
    "    plt.xlim([-0.2,max(time_axis1)])\n",
    "    plt.ylim(bottom=-.1)\n",
    "    #plt.grid()\n",
    "#     plt.savefig('fluid oscillation with fits.png',dpi=400)\n",
    "    plt.show()\n",
    "\n",
    "fittedparams = sp.optimize.curve_fit(model, xdata=time_data_clean, ydata=z_data_clean+h, p0=(9, 1), sigma=z_err)\n",
    "print([\"height\",\"factor\"], fittedparams[0], np.sqrt(np.diag(fittedparams[1])))\n",
    "plot_osc(*(fittedparams[0]))\n",
    "interact(plot_osc, x_off=(-15.00, 20.00, 0.01), h=(0.0, 20.0, 0.1), factor=(0, 10, 0.01))\n"
   ]
  },
  {
   "cell_type": "markdown",
   "metadata": {},
   "source": [
    "The above result is exciting! Both models match data *pretty well*!!!"
   ]
  },
  {
   "cell_type": "markdown",
   "metadata": {},
   "source": [
    "# Going further: examining the frequency spectrum\n",
    "Our analysis so far captures most of the relevant physics. However, sometimes looking in the frequency domain can give insights that weren't readily available in time-domain analysis..."
   ]
  },
  {
   "cell_type": "code",
   "execution_count": null,
   "metadata": {
    "collapsed": false
   },
   "outputs": [
    {
     "ename": "NameError",
     "evalue": "name 'b' is not defined",
     "output_type": "error",
     "traceback": [
      "\u001b[1;31m---------------------------------------------------------------------------\u001b[0m",
      "\u001b[1;31mNameError\u001b[0m                                 Traceback (most recent call last)",
      "\u001b[1;32m<ipython-input-8-c2a0b2c906b6>\u001b[0m in \u001b[0;36m<module>\u001b[1;34m\u001b[0m\n\u001b[0;32m     26\u001b[0m \u001b[1;33m\u001b[0m\u001b[0m\n\u001b[0;32m     27\u001b[0m \u001b[0mplt\u001b[0m\u001b[1;33m.\u001b[0m\u001b[0mplot\u001b[0m\u001b[1;33m(\u001b[0m\u001b[0mt_solnLor\u001b[0m\u001b[1;33m/\u001b[0m\u001b[0mt_norm\u001b[0m\u001b[1;33m,\u001b[0m\u001b[0mz_soln_Lor\u001b[0m\u001b[1;33m,\u001b[0m\u001b[1;34m'g--'\u001b[0m\u001b[1;33m,\u001b[0m\u001b[0mlabel\u001b[0m\u001b[1;33m=\u001b[0m\u001b[1;34m'Lorenceau model'\u001b[0m\u001b[1;33m)\u001b[0m\u001b[1;33m\u001b[0m\u001b[1;33m\u001b[0m\u001b[0m\n\u001b[1;32m---> 28\u001b[1;33m \u001b[0mplt\u001b[0m\u001b[1;33m.\u001b[0m\u001b[0mtitle\u001b[0m\u001b[1;33m(\u001b[0m\u001b[1;34m'Fluid level oscillations with both models\\nOmega=%2.2e (no unit), h=%2.2f, b=%2.2e\\nfilename = %s'\u001b[0m\u001b[1;33m%\u001b[0m\u001b[1;33m(\u001b[0m\u001b[0mOmeg\u001b[0m\u001b[1;33m,\u001b[0m\u001b[0mh\u001b[0m\u001b[1;33m,\u001b[0m\u001b[0mb\u001b[0m\u001b[1;33m,\u001b[0m\u001b[0mfilename\u001b[0m\u001b[1;33m)\u001b[0m\u001b[1;33m,\u001b[0m\u001b[0mfontsize\u001b[0m\u001b[1;33m=\u001b[0m\u001b[1;36m15\u001b[0m\u001b[1;33m)\u001b[0m\u001b[1;33m\u001b[0m\u001b[1;33m\u001b[0m\u001b[0m\n\u001b[0m\u001b[0;32m     29\u001b[0m \u001b[0mplt\u001b[0m\u001b[1;33m.\u001b[0m\u001b[0mlegend\u001b[0m\u001b[1;33m(\u001b[0m\u001b[0mframeon\u001b[0m\u001b[1;33m=\u001b[0m\u001b[1;32mFalse\u001b[0m\u001b[1;33m,\u001b[0m\u001b[0mloc\u001b[0m\u001b[1;33m=\u001b[0m\u001b[1;36m1\u001b[0m\u001b[1;33m)\u001b[0m\u001b[1;33m\u001b[0m\u001b[1;33m\u001b[0m\u001b[0m\n\u001b[0;32m     30\u001b[0m \u001b[0mplt\u001b[0m\u001b[1;33m.\u001b[0m\u001b[0mxlim\u001b[0m\u001b[1;33m(\u001b[0m\u001b[1;33m[\u001b[0m\u001b[1;33m-\u001b[0m\u001b[1;36m0.2\u001b[0m\u001b[1;33m,\u001b[0m\u001b[0mmax\u001b[0m\u001b[1;33m(\u001b[0m\u001b[0mtime_axis1\u001b[0m\u001b[1;33m)\u001b[0m\u001b[1;33m]\u001b[0m\u001b[1;33m)\u001b[0m\u001b[1;33m\u001b[0m\u001b[1;33m\u001b[0m\u001b[0m\n",
      "\u001b[1;31mNameError\u001b[0m: name 'b' is not defined"
     ]
    },
    {
     "data": {
      "image/png": "[encoded data removed]",
      "text/plain": [
       "<Figure size 432x288 with 1 Axes>"
      ]
     },
     "metadata": {
      "needs_background": "light"
     },
     "output_type": "display_data"
    }
   ],
   "source": [
    "h, factor = fittedparams[0]\n",
    "\n",
    "z_data1 = z_data_clean+h # change the overall level so that bottom of straw is z=0\n",
    "time_axis1 = time_data_clean  # only include data for positive times (after cap is released)\n",
    "\n",
    "# prepare parameters for solving models:\n",
    "Omeg = omeg*factor\n",
    "params = (Omeg,)\n",
    "\n",
    "# solve Newton model:\n",
    "t_soln = time_axis1\n",
    "\n",
    "# solve Lorenceau model, equation 17a and 17b....\n",
    "t_solnLor = np.arange(0, 300, 0.01)\n",
    "Z_soln_Lor = sp.integrate.odeint(DZ_dt_Lor, [z_0, 0.00], t_solnLor, args=(params,))   \n",
    "\n",
    "z_soln_Lor = Z_soln_Lor[:,0]*h       # fluid height\n",
    "\n",
    "plt.clf()\n",
    "plt.plot(time_axis1,z_data1,'b.',label='Data') \n",
    "\n",
    "plt.xlabel('time (sec)',fontsize=15)\n",
    "plt.ylabel('fluid level (cm)',fontsize=15)\n",
    "plt.rc('xtick', labelsize=10)\n",
    "plt.rc('ytick', labelsize=10)\n",
    "\n",
    "plt.plot(t_solnLor/t_norm,z_soln_Lor,'g--',label='Lorenceau model')\n",
    "plt.title('Fluid level oscillations with both models\\nOmega=%2.2e (no unit), h=%2.2f, b=%2.2e\\nfilename = %s'%(Omeg,h,b,filename),fontsize=15)\n",
    "plt.legend(frameon=False,loc=1)\n",
    "plt.xlim([-0.2,max(time_axis1)])\n",
    "plt.grid()\n",
    "#     plt.savefig('fluid oscillation with fits.png',dpi=400)\n",
    "plt.show()"
   ]
  },
  {
   "cell_type": "code",
   "execution_count": null,
   "metadata": {
    "collapsed": false
   },
   "outputs": [
    {
     "data": {
      "image/png": "[encoded data removed]",
      "text/plain": [
       "<Figure size 432x288 with 1 Axes>"
      ]
     },
     "metadata": {
      "needs_background": "light"
     },
     "output_type": "display_data"
    }
   ],
   "source": [
    "# plot solution for longer time so as to get denser data points in the frequency spectrum:\n",
    "\n",
    "t_soln_sec = t_solnLor/t_norm\n",
    "plt.clf()\n",
    "plt.plot(t_soln_sec,z_soln_Lor,'r',label='ode solution')\n",
    "plt.plot(time_axis1,z_data1,'b*',label='y data') \n",
    "# plt.xlim([-.1,5])\n",
    "plt.show()\n",
    "z_soln = z_soln_Lor"
   ]
  },
  {
   "cell_type": "code",
   "execution_count": null,
   "metadata": {
    "collapsed": false
   },
   "outputs": [],
   "source": [
    "# perform the discrete Fourier transform of the model which is fit to the data:\n",
    "\n",
    "Z_FFT = np.fft.fft(z_soln-np.mean(z_soln))\n",
    "z2 = Z_FFT * np.conjugate(Z_FFT)\n",
    "pow = abs(z2[1:len(Z_FFT)//2] + z2[:len(Z_FFT)//2:-1])\n",
    "pow = pow/np.max(pow)\n",
    "DT = t_soln_sec[1]-t_soln_sec[0]   # sample time\n",
    "freq = (np.fft.fftfreq(t_soln_sec.shape[0])/DT)[1:len(Z_FFT)//2]"
   ]
  },
  {
   "cell_type": "code",
   "execution_count": null,
   "metadata": {
    "collapsed": false
   },
   "outputs": [
    {
     "data": {
      "image/png": "[encoded data removed]",
      "text/plain": [
       "<Figure size 432x288 with 1 Axes>"
      ]
     },
     "metadata": {
      "needs_background": "light"
     },
     "output_type": "display_data"
    }
   ],
   "source": [
    "# check the power spectrum:\n",
    "\n",
    "title = 'Power spectrum'\n",
    "xaxis_label = 'frequency (Hz)'\n",
    "yaxis_label = 'signal (a.u.)'\n",
    "\n",
    "plt.plot(freq,pow,'.-')\n",
    "\n",
    "plt.xlabel(xaxis_label,fontsize=15)\n",
    "plt.ylabel(yaxis_label,fontsize=15)\n",
    "plt.grid()\n",
    "plt.title(title,fontsize=20)\n",
    "plt.xlim([0,6])\n",
    "# plt.savefig('power spectrum.png',dpi=400)\n",
    "plt.show()"
   ]
  },
  {
   "cell_type": "code",
   "execution_count": null,
   "metadata": {
    "collapsed": false
   },
   "outputs": [
    {
     "data": {
      "text/plain": [
       "1.6695974231998432"
      ]
     },
     "execution_count": 200,
     "metadata": {},
     "output_type": "execute_result"
    }
   ],
   "source": [
    "m = np.argmax(pow)\n",
    "freq[m]"
   ]
  },
  {
   "cell_type": "markdown",
   "metadata": {},
   "source": [
    "Compare this peak value to the oscillation frequency that we can analytically derive in the limit of small oscillations:\n",
    "\n",
    "$$ f = \\frac{\\omega}{2 \\pi} = \\frac{1}{2 \\pi} \\left ( \\frac{g}{h} \\right )^{1/2}$$"
   ]
  },
  {
   "cell_type": "code",
   "execution_count": null,
   "metadata": {
    "collapsed": false
   },
   "outputs": [],
   "source": [
    "h_guess = 9 # cm"
   ]
  },
  {
   "cell_type": "code",
   "execution_count": null,
   "metadata": {
    "collapsed": false
   },
   "outputs": [
    {
     "name": "stdout",
     "output_type": "stream",
     "text": [
      "small oscillation frequency = 1.661 Hz\n"
     ]
    }
   ],
   "source": [
    "f_est = 1/(2*np.pi)*np.sqrt(g/(h_guess*10**-2)) # cm to m\n",
    "print('small oscillation frequency = %2.3f Hz'%(f_est))"
   ]
  },
  {
   "cell_type": "markdown",
   "metadata": {},
   "source": [
    "Fit the power spectrum with a Lorentzian function:"
   ]
  },
  {
   "cell_type": "code",
   "execution_count": null,
   "metadata": {
    "collapsed": false
   },
   "outputs": [
    {
     "data": {
      "image/png": "[encoded data removed]",
      "text/plain": [
       "<Figure size 432x288 with 1 Axes>"
      ]
     },
     "metadata": {
      "needs_background": "light"
     },
     "output_type": "display_data"
    }
   ],
   "source": [
    "def Lorentzian(x_val, h, w, x_c, y_0):\n",
    "    return ((h * w**2)/((w**2)+(4*(x_val - x_c)**2)) + y_0)\n",
    "h_g   = 1    #h = height\n",
    "w_g   = 1        #w = fwhm\n",
    "x_c_g = 1.5        #x_c = x val of peak\n",
    "y_0_g = 0           #y_0 = y val of asymptote\n",
    "\n",
    "fit_from_Hz = 0.5\n",
    "fit_to_Hz = 2.5\n",
    "\n",
    "fit_from_Hz = 1\n",
    "fit_to_Hz = 2.5\n",
    "\n",
    "fit_from = int(np.round(np.interp(fit_from_Hz,freq,np.arange(len(freq)))))\n",
    "fit_to = int(np.round(np.interp(fit_to_Hz,freq,np.arange(len(freq)))))\n",
    "\n",
    "\n",
    "\n",
    "#best fit lines (guesses help the process)\n",
    "p_guess = [h_g, w_g, x_c_g, y_0_g]\n",
    "peak, pcov = sp.optimize.curve_fit(Lorentzian, freq[fit_from:fit_to],pow[fit_from:fit_to], p0 = p_guess)\n",
    "\n",
    "perr = np.sqrt(np.diag(pcov))\n",
    "plt.plot(freq[:100],pow[:100],'bo',label = 'power spectrum')\n",
    "# plt.plot(freq[:100], Lorentzian(freq[:100], *p_guess), 'g--',label='guess')\n",
    "plt.plot(freq[:100], Lorentzian(freq[:100], *peak), 'r',label='Lorentzian fit')\n",
    "plt.grid()\n",
    "\n",
    "plt.axvline(x=f_est)\n",
    "# plt.axvline(x=fit_to_Hz)\n",
    "wdith_plot = 0.8\n",
    "plt.xlim([peak[2]-wdith_plot,peak[2]+wdith_plot])\n",
    "xaxis_label = 'frequency (Hz)'\n",
    "yaxis_label = 'signal (a.u.)'\n",
    "plt.xlabel(xaxis_label,fontsize=15)\n",
    "plt.ylabel(yaxis_label,fontsize=15)\n",
    "plt.legend(frameon=False,loc=2) \n",
    "plt.savefig('fig3 - frequency spectrum.png',dpi=400)\n",
    "plt.show()"
   ]
  },
  {
   "cell_type": "code",
   "execution_count": null,
   "metadata": {
    "collapsed": false
   },
   "outputs": [
    {
     "name": "stdout",
     "output_type": "stream",
     "text": [
      "Our fitted values using Lorentzian model:\n",
      "Height: 0.945907518 a.u.\n",
      "FWHM : 0.39961 Hz\n",
      "Center: x =1.66483 Hz\n",
      "Flatline: y =0.048051927 a.u.\n",
      "\n"
     ]
    }
   ],
   "source": [
    "print(\"Our fitted values using Lorentzian model:\")\n",
    "print(\"Height: %.9f\"%(peak[0]),\"a.u.\")\n",
    "print(\"FWHM : %.5f\"%(peak[1]),\"Hz\")\n",
    "print(\"Center: x =%.5f\"%(peak[2]),\"Hz\")\n",
    "print(\"Flatline: y =%.9f\"%(peak[3]),\"a.u.\")\n",
    "print()"
   ]
  },
  {
   "cell_type": "code",
   "execution_count": null,
   "metadata": {
    "collapsed": false
   },
   "outputs": [
    {
     "name": "stdout",
     "output_type": "stream",
     "text": [
      "The width of the power spectrum is 0.40 Hz which implies a decay time of DT=2.50e+00 sec\n"
     ]
    }
   ],
   "source": [
    "# the width of the power spectrum gives an estimate of the timescale of the decay:\n",
    "\n",
    "FWHM = peak[1]\n",
    "DT = 1/(FWHM)\n",
    "print('The width of the power spectrum is %2.2f Hz which implies a decay time of DT=%2.2e sec'%(FWHM,DT))"
   ]
  },
  {
   "cell_type": "code",
   "execution_count": null,
   "metadata": {
    "collapsed": false
   },
   "outputs": [
    {
     "name": "stdout",
     "output_type": "stream",
     "text": [
      "discrepancy bw small oscillations and measured peak is -0.24 %\n"
     ]
    }
   ],
   "source": [
    "print('discrepancy bw small oscillations and measured peak is %2.2f %%'%((f_est - peak[2])/f_est*100))"
   ]
  }
 ],
 "metadata": {
  "kernelspec": {
   "display_name": "Python 3",
   "language": "python",
   "name": "python3"
  },
  "language_info": {
   "codemirror_mode": {
    "name": "ipython",
    "version": 3
   },
   "file_extension": ".py",
   "mimetype": "text/x-python",
   "name": "python",
   "nbconvert_exporter": "python",
   "pygments_lexer": "ipython3",
   "version": "3.8.8"
  },
  "widgets": {
   "state": {
    "3e5b677120394ef195205ccb1aae1fd3": {
     "views": [
      {
       "cell_index": 7
      }
     ]
    }
   },
   "version": "1.2.0"
  }
 },
 "nbformat": 4,
 "nbformat_minor": 2
}
